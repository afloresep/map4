{
 "cells": [
  {
   "cell_type": "code",
   "execution_count": 32,
   "metadata": {},
   "outputs": [],
   "source": [
    "#!/usr/bin/env python\n",
    "\n",
    "import sys\n",
    "import os \n",
    "import math\n",
    "import glob\n",
    "import itertools\n",
    "\n",
    "import numpy \n",
    "from rdkit import Chem, DataStructs\n",
    "from rdkit.Chem import rdMolDescriptors as rdm\n",
    "from rdkit.DataStructs import FingerprintSimilarity\n",
    "from rdkit.Chem import AllChem\n",
    "\n",
    "import numpy as np\n",
    "import pandas as pd\n",
    "import csv\n",
    "import matplotlib.pyplot as plt\n",
    "import matplotlib.cm as cm\n",
    "\n",
    "from sklearn.decomposition import PCA\n",
    "from sklearn.cluster import KMeans\n",
    "from sklearn.preprocessing import StandardScaler\n",
    "# Load Data\n",
    "\n",
    "df = pd.read_excel('MR1_100mol.xlsx') # xlsx is not ideal , is easier to convert here than in Excel\n",
    "\n",
    "# Save the DataFrame to CSV format with comma as the delimiter\n",
    "df.to_csv('MR1_100mol.csv', index=False)  # Set index=False to exclude row numbers in the CSV\n",
    "\n",
    "df = pd.read_csv('MR1_map4-clean.csv')\n",
    "\n",
    "df.head()\n",
    "df.describe()\n",
    "\n",
    "# Select only the fingerprint bits columns for clustering\n",
    "\n",
    "map4_fp = df.iloc[:, 2:].values # np array with shape (98, 1024) 98 molecules x 1024 fp / molecule\n",
    "\n",
    "# map4_fp.shape\n",
    "\n",
    "\n",
    "# Apply PCA to reduce dimensionality to 2 components\n",
    "\n",
    "# Standardization (Z-score scaling)\n",
    "std_scaler = StandardScaler()\n",
    "data_std = std_scaler.fit_transform(map4_fp)\n",
    "\n",
    "# Perform PCA on the standardized data\n",
    "pca = PCA(n_components=2)\n",
    "pca_std = pca.fit_transform(data_std) # Coordinates for std data\n",
    "\n",
    "# Perform PCA on normal data \n",
    "\n",
    "pca_not_std = pca.fit_transform(map4_fp) # Coordinates for not std data\n",
    "\n",
    "df['PCA_1-not_std'] = pca_not_std[:, 0]\n",
    "df['PCA_2-not_std'] = pca_not_std[:, 1]\n",
    "df['PCA_1-std'] = pca_std[:, 0]\n",
    "df['PCA_2-std'] = pca_std[:, 1]\n",
    "\n",
    "columns = ['Name', 'PCA_1-not_std', 'PCA_2-not_std', 'PCA_1-std', 'PCA_2-std']\n",
    "results_df = df[columns]"
   ]
  },
  {
   "cell_type": "markdown",
   "metadata": {},
   "source": [
    "Shorter version. Only <100 mol. Easier to compute. We will use full dataset later. \n",
    "\n",
    "For the fingerprints: Min value is 3.711060e+05 and Max value is 1.503716e+08. \n",
    "So 3 orders of magnitude... \n",
    "\n",
    "\n",
    "Data Frame (df) has Smiles code, name for each metabolite and 1024 columns with values ranging from 5 to 8 digits. This 1024 combination is the fingerprint that later we'll use for K-means clustering."
   ]
  },
  {
   "cell_type": "code",
   "execution_count": 33,
   "metadata": {},
   "outputs": [
    {
     "data": {
      "text/plain": [
       "(3993, 1030)"
      ]
     },
     "execution_count": 33,
     "metadata": {},
     "output_type": "execute_result"
    }
   ],
   "source": [
    "df.shape"
   ]
  },
  {
   "cell_type": "markdown",
   "metadata": {},
   "source": [
    "### Standardize or not to standardize, that is the question\n",
    "\n",
    "Typically, data is standardized before performing a PCA. \n",
    "However, in the case of map4 fingerprints, I find that standarization might not be necessary due to being messured in the same scale (despite variations spanning three orders of magnitud). \n",
    "One would use standarization when contrasting disparate units like the height of a tree and the girth of the same tree. \n",
    "\n",
    "Altough HMDB database contains diverse lipids, phospholipids... which could explain the difference in magnitud for some fingerprints? So maybe standarization is due?\n",
    "\n",
    "Let's try doing it and see what happens...\n",
    "\n",
    "When it comes to using PCA, data standarization is usually the go-to step. However, the situation is a bit different with map4 fingerprints. Despite having variations that span three orders of magnitude (1e05 / 1e08) these fingerprints are actually measured on a consistent scale (map4). This makes me wonder if standarization is really necessary...\n",
    "Statistics is not my area of expertise so i could be wrong!\n",
    "\n",
    "We're comparing apples to apples so to speak... For instance, you'd standardize when comparing something like the height of a tree and the tree's girth – they're completely different units.\n",
    "\n",
    "However... the HMDB database contains all sorts of stuff, lipids, phospholipids... This variety might be the reason behind the magnitude differences we're seeing in some fingerprints. Could standarization help with that??\n",
    "\n",
    "We'll give standarization a shot and see if it changes things. Maybe it'll clear things up, maybe not. Either way, we'll get a better sense of whether standarization plays a role or not\n"
   ]
  },
  {
   "cell_type": "code",
   "execution_count": 34,
   "metadata": {},
   "outputs": [
    {
     "data": {
      "text/plain": [
       "(3993, 1028)"
      ]
     },
     "execution_count": 34,
     "metadata": {},
     "output_type": "execute_result"
    }
   ],
   "source": [
    "# Select only the fingerprint bits columns for clustering\n",
    "\n",
    "map4_fp = df.iloc[:, 2:].values # np array with shape (98, 1024) 98 molecules x 1024 fp / molecule\n",
    "\n",
    "map4_fp.shape"
   ]
  },
  {
   "cell_type": "code",
   "execution_count": 35,
   "metadata": {},
   "outputs": [],
   "source": [
    "# Apply PCA to reduce dimensionality to 2 components\n",
    "\n",
    "# Standardization (Z-score scaling)\n",
    "std_scaler = StandardScaler()\n",
    "data_std = std_scaler.fit_transform(map4_fp)\n",
    "\n",
    "# Perform PCA on the standardized data\n",
    "pca = PCA(n_components=2)\n",
    "pca_std = pca.fit_transform(data_std) # Coordinates for std data\n",
    "\n",
    "# Perform PCA on normal data \n",
    "\n",
    "pca_not_std = pca.fit_transform(map4_fp) # Coordinates for not std data"
   ]
  },
  {
   "cell_type": "code",
   "execution_count": 36,
   "metadata": {},
   "outputs": [
    {
     "data": {
      "text/html": [
       "<div>\n",
       "<style scoped>\n",
       "    .dataframe tbody tr th:only-of-type {\n",
       "        vertical-align: middle;\n",
       "    }\n",
       "\n",
       "    .dataframe tbody tr th {\n",
       "        vertical-align: top;\n",
       "    }\n",
       "\n",
       "    .dataframe thead th {\n",
       "        text-align: right;\n",
       "    }\n",
       "</style>\n",
       "<table border=\"1\" class=\"dataframe\">\n",
       "  <thead>\n",
       "    <tr style=\"text-align: right;\">\n",
       "      <th></th>\n",
       "      <th>Name</th>\n",
       "      <th>PCA_1-not_std</th>\n",
       "      <th>PCA_2-not_std</th>\n",
       "      <th>PCA_1-std</th>\n",
       "      <th>PCA_2-std</th>\n",
       "    </tr>\n",
       "  </thead>\n",
       "  <tbody>\n",
       "    <tr>\n",
       "      <th>0</th>\n",
       "      <td>HMDB0000058</td>\n",
       "      <td>-2.323051e+08</td>\n",
       "      <td>2.367417e+07</td>\n",
       "      <td>-7.415853</td>\n",
       "      <td>0.971302</td>\n",
       "    </tr>\n",
       "    <tr>\n",
       "      <th>1</th>\n",
       "      <td>HMDB0000343</td>\n",
       "      <td>-1.276813e+08</td>\n",
       "      <td>-1.154821e+07</td>\n",
       "      <td>-4.100958</td>\n",
       "      <td>-0.624581</td>\n",
       "    </tr>\n",
       "    <tr>\n",
       "      <th>2</th>\n",
       "      <td>HMDB0000372</td>\n",
       "      <td>-8.101485e+07</td>\n",
       "      <td>-3.220920e+07</td>\n",
       "      <td>-2.684873</td>\n",
       "      <td>-1.128427</td>\n",
       "    </tr>\n",
       "    <tr>\n",
       "      <th>3</th>\n",
       "      <td>HMDB0000406</td>\n",
       "      <td>-1.683926e+08</td>\n",
       "      <td>-3.063259e+07</td>\n",
       "      <td>-5.277123</td>\n",
       "      <td>-1.379320</td>\n",
       "    </tr>\n",
       "    <tr>\n",
       "      <th>4</th>\n",
       "      <td>HMDB0000416</td>\n",
       "      <td>-3.589053e+08</td>\n",
       "      <td>2.714081e+07</td>\n",
       "      <td>-11.944962</td>\n",
       "      <td>1.357629</td>\n",
       "    </tr>\n",
       "    <tr>\n",
       "      <th>...</th>\n",
       "      <td>...</td>\n",
       "      <td>...</td>\n",
       "      <td>...</td>\n",
       "      <td>...</td>\n",
       "      <td>...</td>\n",
       "    </tr>\n",
       "    <tr>\n",
       "      <th>3988</th>\n",
       "      <td>HMDB0303039</td>\n",
       "      <td>1.631236e+07</td>\n",
       "      <td>3.418290e+07</td>\n",
       "      <td>0.550862</td>\n",
       "      <td>0.486063</td>\n",
       "    </tr>\n",
       "    <tr>\n",
       "      <th>3989</th>\n",
       "      <td>HMDB0303072</td>\n",
       "      <td>-3.548283e+08</td>\n",
       "      <td>2.438109e+07</td>\n",
       "      <td>-11.626969</td>\n",
       "      <td>1.159714</td>\n",
       "    </tr>\n",
       "    <tr>\n",
       "      <th>3990</th>\n",
       "      <td>HMDB0303074</td>\n",
       "      <td>2.732742e+08</td>\n",
       "      <td>-1.033438e+07</td>\n",
       "      <td>8.829819</td>\n",
       "      <td>0.625283</td>\n",
       "    </tr>\n",
       "    <tr>\n",
       "      <th>3991</th>\n",
       "      <td>HMDB0303085</td>\n",
       "      <td>-4.442254e+08</td>\n",
       "      <td>1.196727e+07</td>\n",
       "      <td>-14.578489</td>\n",
       "      <td>1.019605</td>\n",
       "    </tr>\n",
       "    <tr>\n",
       "      <th>3992</th>\n",
       "      <td>HMDB0303086</td>\n",
       "      <td>-1.705389e+08</td>\n",
       "      <td>-1.098638e+05</td>\n",
       "      <td>-5.314223</td>\n",
       "      <td>-0.044237</td>\n",
       "    </tr>\n",
       "  </tbody>\n",
       "</table>\n",
       "<p>3993 rows × 5 columns</p>\n",
       "</div>"
      ],
      "text/plain": [
       "             Name  PCA_1-not_std  PCA_2-not_std  PCA_1-std  PCA_2-std\n",
       "0     HMDB0000058  -2.323051e+08   2.367417e+07  -7.415853   0.971302\n",
       "1     HMDB0000343  -1.276813e+08  -1.154821e+07  -4.100958  -0.624581\n",
       "2     HMDB0000372  -8.101485e+07  -3.220920e+07  -2.684873  -1.128427\n",
       "3     HMDB0000406  -1.683926e+08  -3.063259e+07  -5.277123  -1.379320\n",
       "4     HMDB0000416  -3.589053e+08   2.714081e+07 -11.944962   1.357629\n",
       "...           ...            ...            ...        ...        ...\n",
       "3988  HMDB0303039   1.631236e+07   3.418290e+07   0.550862   0.486063\n",
       "3989  HMDB0303072  -3.548283e+08   2.438109e+07 -11.626969   1.159714\n",
       "3990  HMDB0303074   2.732742e+08  -1.033438e+07   8.829819   0.625283\n",
       "3991  HMDB0303085  -4.442254e+08   1.196727e+07 -14.578489   1.019605\n",
       "3992  HMDB0303086  -1.705389e+08  -1.098638e+05  -5.314223  -0.044237\n",
       "\n",
       "[3993 rows x 5 columns]"
      ]
     },
     "execution_count": 36,
     "metadata": {},
     "output_type": "execute_result"
    }
   ],
   "source": [
    "df['PCA_1-not_std'] = pca_not_std[:, 0]\n",
    "df['PCA_2-not_std'] = pca_not_std[:, 1]\n",
    "df['PCA_1-std'] = pca_std[:, 0]\n",
    "df['PCA_2-std'] = pca_std[:, 1]\n",
    "\n",
    "columns = ['Name', 'PCA_1-not_std', 'PCA_2-not_std', 'PCA_1-std', 'PCA_2-std']\n",
    "results_df = df[columns]\n",
    "results_df"
   ]
  },
  {
   "cell_type": "markdown",
   "metadata": {},
   "source": [
    "## Searching optimal K value"
   ]
  },
  {
   "cell_type": "code",
   "execution_count": 37,
   "metadata": {},
   "outputs": [
    {
     "data": {
      "image/png": "[encoded data removed]",
      "text/plain": [
       "<Figure size 640x480 with 1 Axes>"
      ]
     },
     "metadata": {},
     "output_type": "display_data"
    }
   ],
   "source": [
    "cost_std = []\n",
    "cost_no_std = []\n",
    "\n",
    "for i in range(1, 25):\n",
    "    kmeans = KMeans(n_init = 100, n_clusters=i, max_iter=500)\n",
    "    kmeans.fit(pca_not_std) \n",
    "    # label (cluster assigned) for each molecule giving the coordinates (PCA_1 and PCA_2)\n",
    "    # Compute cluster centers and predict cluster index for each sample.\n",
    "    cost_no_std.append(kmeans.inertia_)\n",
    "\n",
    "    kmeans.fit(pca_std)\n",
    "    cost_std.append(kmeans.inertia_)\n",
    "\n",
    "\n",
    "# plot the cost against K values\n",
    "plt.plot(range(1, 25), cost_std, color ='b', linewidth ='3')\n",
    "plt.xlabel(\"Value of K std\")\n",
    "plt.ylabel(\"Squared Error (Cost)\")\n",
    "plt.show() # clear the plot"
   ]
  },
  {
   "cell_type": "code",
   "execution_count": 39,
   "metadata": {},
   "outputs": [
    {
     "data": {
      "image/png": "[encoded data removed]",
      "text/plain": [
       "<Figure size 640x480 with 1 Axes>"
      ]
     },
     "metadata": {},
     "output_type": "display_data"
    }
   ],
   "source": [
    "plt.plot(range(1, 25), cost_no_std, color ='b', linewidth ='3')\n",
    "plt.xlabel(\"Value of K not std\")\n",
    "plt.ylabel(\"Squared Error (Cost)\")\n",
    "plt.show() # clear the plot"
   ]
  },
  {
   "cell_type": "code",
   "execution_count": 40,
   "metadata": {},
   "outputs": [
    {
     "data": {
      "text/plain": [
       "[1.1669714393482717e+21,\n",
       " 4.9714795502227266e+20,\n",
       " 2.8512364859519782e+20,\n",
       " 2.0026068214733134e+20,\n",
       " 1.5551590628829695e+20,\n",
       " 1.2420670795613507e+20,\n",
       " 1.0451872426353068e+20,\n",
       " 8.602439763339141e+19,\n",
       " 7.3151689018877305e+19,\n",
       " 6.110579474793541e+19,\n",
       " 5.192383950535985e+19,\n",
       " 4.42641486191347e+19,\n",
       " 3.918275052895658e+19,\n",
       " 3.5323237501955793e+19,\n",
       " 3.17402066338375e+19,\n",
       " 2.925038269140051e+19,\n",
       " 2.693916436812575e+19,\n",
       " 2.531203330456704e+19,\n",
       " 2.371704963450505e+19,\n",
       " 2.2379347250973508e+19,\n",
       " 2.1124683057320354e+19,\n",
       " 1.985703277060932e+19,\n",
       " 1.8816844472363844e+19,\n",
       " 1.7725925633680876e+19]"
      ]
     },
     "execution_count": 40,
     "metadata": {},
     "output_type": "execute_result"
    }
   ],
   "source": [
    "cost_no_std"
   ]
  },
  {
   "cell_type": "code",
   "execution_count": 202,
   "metadata": {},
   "outputs": [],
   "source": [
    "\"\"\"# Apply k-means clustering\n",
    "num_clusters = 100\n",
    "kmeans = KMeans(n_init = 500, n_clusters=num_clusters, random_state = 42)\"\"\"\n"
   ]
  },
  {
   "cell_type": "code",
   "execution_count": 203,
   "metadata": {},
   "outputs": [
    {
     "name": "stderr",
     "output_type": "stream",
     "text": [
      "/var/folders/3b/qc0964915w138dp3bgv_7rp80000gs/T/ipykernel_46885/1323941900.py:5: SettingWithCopyWarning: \n",
      "A value is trying to be set on a copy of a slice from a DataFrame.\n",
      "Try using .loc[row_indexer,col_indexer] = value instead\n",
      "\n",
      "See the caveats in the documentation: https://pandas.pydata.org/pandas-docs/stable/user_guide/indexing.html#returning-a-view-versus-a-copy\n",
      "  results_df['cluster-not_std'] = label_not_std\n"
     ]
    },
    {
     "data": {
      "text/plain": [
       "array([14, 96, 85, ..., 95, 24, 51], dtype=int32)"
      ]
     },
     "execution_count": 203,
     "metadata": {},
     "output_type": "execute_result"
    }
   ],
   "source": [
    "label_not_std = kmeans.fit_predict(pca_not_std) \n",
    "# label (cluster assigned) for each molecule giving the coordinates (PCA_1 and PCA_2)\n",
    "# Compute cluster centers and predict cluster index for each sample.\n",
    "\n",
    "results_df['cluster-not_std'] = label_not_std\n",
    "centroids_not_std = kmeans.cluster_centers_\n",
    "\n",
    "\n",
    "label_not_std # Cluster predicted for each sample for not std data"
   ]
  },
  {
   "cell_type": "code",
   "execution_count": 204,
   "metadata": {},
   "outputs": [
    {
     "name": "stderr",
     "output_type": "stream",
     "text": [
      "/var/folders/3b/qc0964915w138dp3bgv_7rp80000gs/T/ipykernel_46885/4019008276.py:5: SettingWithCopyWarning: \n",
      "A value is trying to be set on a copy of a slice from a DataFrame.\n",
      "Try using .loc[row_indexer,col_indexer] = value instead\n",
      "\n",
      "See the caveats in the documentation: https://pandas.pydata.org/pandas-docs/stable/user_guide/indexing.html#returning-a-view-versus-a-copy\n",
      "  results_df['cluster-std'] = label_std\n"
     ]
    },
    {
     "data": {
      "text/plain": [
       "array([75, 81, 90, ..., 31, 13,  4], dtype=int32)"
      ]
     },
     "execution_count": 204,
     "metadata": {},
     "output_type": "execute_result"
    }
   ],
   "source": [
    "label_std = kmeans.fit_predict(pca_std) \n",
    "# label (cluster assigned) for each molecule giving the coordinates (PCA_1 and PCA_2)\n",
    "# Compute cluster centers and predict cluster index for each sample.\n",
    "\n",
    "results_df['cluster-std'] = label_std\n",
    "centroids_std = kmeans.cluster_centers_\n",
    "\n",
    "label_std # Cluster predicted for each sample for std data"
   ]
  },
  {
   "cell_type": "code",
   "execution_count": 205,
   "metadata": {},
   "outputs": [
    {
     "data": {
      "text/html": [
       "<div>\n",
       "<style scoped>\n",
       "    .dataframe tbody tr th:only-of-type {\n",
       "        vertical-align: middle;\n",
       "    }\n",
       "\n",
       "    .dataframe tbody tr th {\n",
       "        vertical-align: top;\n",
       "    }\n",
       "\n",
       "    .dataframe thead th {\n",
       "        text-align: right;\n",
       "    }\n",
       "</style>\n",
       "<table border=\"1\" class=\"dataframe\">\n",
       "  <thead>\n",
       "    <tr style=\"text-align: right;\">\n",
       "      <th></th>\n",
       "      <th>Name</th>\n",
       "      <th>PCA_1-not_std</th>\n",
       "      <th>PCA_2-not_std</th>\n",
       "      <th>PCA_1-std</th>\n",
       "      <th>PCA_2-std</th>\n",
       "      <th>cluster-not_std</th>\n",
       "      <th>cluster-std</th>\n",
       "    </tr>\n",
       "  </thead>\n",
       "  <tbody>\n",
       "    <tr>\n",
       "      <th>0</th>\n",
       "      <td>HMDB0000058</td>\n",
       "      <td>-1.642645e+08</td>\n",
       "      <td>1.674790e+07</td>\n",
       "      <td>-7.389605</td>\n",
       "      <td>0.974119</td>\n",
       "      <td>14</td>\n",
       "      <td>75</td>\n",
       "    </tr>\n",
       "    <tr>\n",
       "      <th>1</th>\n",
       "      <td>HMDB0000343</td>\n",
       "      <td>-9.028430e+07</td>\n",
       "      <td>-8.159566e+06</td>\n",
       "      <td>-4.086619</td>\n",
       "      <td>-0.632245</td>\n",
       "      <td>96</td>\n",
       "      <td>81</td>\n",
       "    </tr>\n",
       "    <tr>\n",
       "      <th>2</th>\n",
       "      <td>HMDB0000372</td>\n",
       "      <td>-5.728615e+07</td>\n",
       "      <td>-2.275895e+07</td>\n",
       "      <td>-2.675883</td>\n",
       "      <td>-1.078753</td>\n",
       "      <td>85</td>\n",
       "      <td>90</td>\n",
       "    </tr>\n",
       "    <tr>\n",
       "      <th>3</th>\n",
       "      <td>HMDB0000406</td>\n",
       "      <td>-1.190716e+08</td>\n",
       "      <td>-2.164462e+07</td>\n",
       "      <td>-5.258263</td>\n",
       "      <td>-1.393380</td>\n",
       "      <td>1</td>\n",
       "      <td>4</td>\n",
       "    </tr>\n",
       "    <tr>\n",
       "      <th>4</th>\n",
       "      <td>HMDB0000416</td>\n",
       "      <td>-2.537843e+08</td>\n",
       "      <td>1.919724e+07</td>\n",
       "      <td>-11.904453</td>\n",
       "      <td>1.346232</td>\n",
       "      <td>68</td>\n",
       "      <td>35</td>\n",
       "    </tr>\n",
       "    <tr>\n",
       "      <th>...</th>\n",
       "      <td>...</td>\n",
       "      <td>...</td>\n",
       "      <td>...</td>\n",
       "      <td>...</td>\n",
       "      <td>...</td>\n",
       "      <td>...</td>\n",
       "      <td>...</td>\n",
       "    </tr>\n",
       "    <tr>\n",
       "      <th>3988</th>\n",
       "      <td>HMDB0303039</td>\n",
       "      <td>1.153458e+07</td>\n",
       "      <td>2.417192e+07</td>\n",
       "      <td>0.549148</td>\n",
       "      <td>0.369566</td>\n",
       "      <td>90</td>\n",
       "      <td>8</td>\n",
       "    </tr>\n",
       "    <tr>\n",
       "      <th>3989</th>\n",
       "      <td>HMDB0303072</td>\n",
       "      <td>-2.509015e+08</td>\n",
       "      <td>1.725010e+07</td>\n",
       "      <td>-11.586936</td>\n",
       "      <td>1.183536</td>\n",
       "      <td>68</td>\n",
       "      <td>0</td>\n",
       "    </tr>\n",
       "    <tr>\n",
       "      <th>3990</th>\n",
       "      <td>HMDB0303074</td>\n",
       "      <td>1.932340e+08</td>\n",
       "      <td>-7.303555e+06</td>\n",
       "      <td>8.799050</td>\n",
       "      <td>0.631560</td>\n",
       "      <td>95</td>\n",
       "      <td>31</td>\n",
       "    </tr>\n",
       "    <tr>\n",
       "      <th>3991</th>\n",
       "      <td>HMDB0303085</td>\n",
       "      <td>-3.141148e+08</td>\n",
       "      <td>8.466488e+06</td>\n",
       "      <td>-14.528472</td>\n",
       "      <td>1.147981</td>\n",
       "      <td>24</td>\n",
       "      <td>13</td>\n",
       "    </tr>\n",
       "    <tr>\n",
       "      <th>3992</th>\n",
       "      <td>HMDB0303086</td>\n",
       "      <td>-1.205892e+08</td>\n",
       "      <td>-6.451971e+04</td>\n",
       "      <td>-5.294988</td>\n",
       "      <td>-0.103393</td>\n",
       "      <td>51</td>\n",
       "      <td>4</td>\n",
       "    </tr>\n",
       "  </tbody>\n",
       "</table>\n",
       "<p>3993 rows × 7 columns</p>\n",
       "</div>"
      ],
      "text/plain": [
       "             Name  PCA_1-not_std  PCA_2-not_std  PCA_1-std  PCA_2-std  \\\n",
       "0     HMDB0000058  -1.642645e+08   1.674790e+07  -7.389605   0.974119   \n",
       "1     HMDB0000343  -9.028430e+07  -8.159566e+06  -4.086619  -0.632245   \n",
       "2     HMDB0000372  -5.728615e+07  -2.275895e+07  -2.675883  -1.078753   \n",
       "3     HMDB0000406  -1.190716e+08  -2.164462e+07  -5.258263  -1.393380   \n",
       "4     HMDB0000416  -2.537843e+08   1.919724e+07 -11.904453   1.346232   \n",
       "...           ...            ...            ...        ...        ...   \n",
       "3988  HMDB0303039   1.153458e+07   2.417192e+07   0.549148   0.369566   \n",
       "3989  HMDB0303072  -2.509015e+08   1.725010e+07 -11.586936   1.183536   \n",
       "3990  HMDB0303074   1.932340e+08  -7.303555e+06   8.799050   0.631560   \n",
       "3991  HMDB0303085  -3.141148e+08   8.466488e+06 -14.528472   1.147981   \n",
       "3992  HMDB0303086  -1.205892e+08  -6.451971e+04  -5.294988  -0.103393   \n",
       "\n",
       "      cluster-not_std  cluster-std  \n",
       "0                  14           75  \n",
       "1                  96           81  \n",
       "2                  85           90  \n",
       "3                   1            4  \n",
       "4                  68           35  \n",
       "...               ...          ...  \n",
       "3988               90            8  \n",
       "3989               68            0  \n",
       "3990               95           31  \n",
       "3991               24           13  \n",
       "3992               51            4  \n",
       "\n",
       "[3993 rows x 7 columns]"
      ]
     },
     "execution_count": 205,
     "metadata": {},
     "output_type": "execute_result"
    }
   ],
   "source": [
    "results_df"
   ]
  },
  {
   "cell_type": "code",
   "execution_count": 206,
   "metadata": {},
   "outputs": [
    {
     "name": "stderr",
     "output_type": "stream",
     "text": [
      "No artists with labels found to put in legend.  Note that artists whose label start with an underscore are ignored when legend() is called with no argument.\n"
     ]
    },
    {
     "data": {
      "image/png": "[encoded data removed]",
      "text/plain": [
       "<Figure size 640x480 with 1 Axes>"
      ]
     },
     "metadata": {},
     "output_type": "display_data"
    },
    {
     "name": "stderr",
     "output_type": "stream",
     "text": [
      "No artists with labels found to put in legend.  Note that artists whose label start with an underscore are ignored when legend() is called with no argument.\n"
     ]
    },
    {
     "data": {
      "image/png": "[encoded data removed]",
      "text/plain": [
       "<Figure size 640x480 with 1 Axes>"
      ]
     },
     "metadata": {},
     "output_type": "display_data"
    },
    {
     "data": {
      "text/plain": [
       "\"#plotting the results:\\nfor i in u_labels:\\n    plt.scatter(df[label == i , 0] , df[label == i , 1] , label = i) # plot label i with coordinates X(first column or 0 ) and Y (second column or 1) use labels i \\nplt.scatter(centroids[:,0] , centroids[:,1] , s = 80, color = 'k') # plot all centroids \\nplt.legend()\\nplt.show()\""
      ]
     },
     "execution_count": 206,
     "metadata": {},
     "output_type": "execute_result"
    }
   ],
   "source": [
    "# Plotting the results\n",
    "\n",
    "x_values_not_std = results_df.iloc[:,1] # all X values PCA_1-not_std\n",
    "y_values_not_std = results_df.iloc[:,2] # all Y values PCA_1-not_std\n",
    "\n",
    "x_values_std = results_df.iloc[:,3] # all X values PCA_1-not_std\n",
    "y_values_std = results_df.iloc[:,4] # all Y values PCA_1-not_std\n",
    "\n",
    "for i in range(10):\n",
    "    plt.scatter(x_values_not_std, y_values_not_std)\n",
    "    plt.scatter(centroids_not_std[:,0] , centroids_not_std[:,1] , s = 80, color = 'k') # plot all centroids \n",
    "\n",
    "plt.legend()\n",
    "plt.xlabel('pca_not_std')\n",
    "plt.show()\n",
    "\n",
    "for i in range(10):\n",
    "    plt.scatter(x_values_std, y_values_std)\n",
    "    plt.scatter(centroids_std[:,0] , centroids_std[:,1] , s = 80, color = 'k') # plot all centroids \n",
    "\n",
    "plt.legend()\n",
    "plt.xlabel('pca_std')\n",
    "plt.show()\n",
    "\n",
    "\n",
    "\n",
    "\"\"\"#plotting the results:\n",
    "for i in u_labels:\n",
    "    plt.scatter(df[label == i , 0] , df[label == i , 1] , label = i) # plot label i with coordinates X(first column or 0 ) and Y (second column or 1) use labels i \n",
    "plt.scatter(centroids[:,0] , centroids[:,1] , s = 80, color = 'k') # plot all centroids \n",
    "plt.legend()\n",
    "plt.show()\"\"\""
   ]
  },
  {
   "cell_type": "code",
   "execution_count": null,
   "metadata": {},
   "outputs": [],
   "source": []
  }
 ],
 "metadata": {
  "kernelspec": {
   "display_name": "map4",
   "language": "python",
   "name": "python3"
  },
  "language_info": {
   "codemirror_mode": {
    "name": "ipython",
    "version": 3
   },
   "file_extension": ".py",
   "mimetype": "text/x-python",
   "name": "python",
   "nbconvert_exporter": "python",
   "pygments_lexer": "ipython3",
   "version": "3.9.1"
  },
  "orig_nbformat": 4
 },
 "nbformat": 4,
 "nbformat_minor": 2
}
